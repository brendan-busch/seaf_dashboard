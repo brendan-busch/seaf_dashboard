{
 "cells": [
  {
   "cell_type": "code",
   "execution_count": 3,
   "metadata": {},
   "outputs": [],
   "source": [
    "import os\n",
    "import boto3\n",
    "import pandas as pd\n",
    "from dash import Dash, dcc, html, Input, Output\n",
    "import plotly.express as px\n",
    "import dash_leaflet as dl\n",
    "import dash_leaflet.express as dlx"
   ]
  },
  {
   "cell_type": "code",
   "execution_count": 4,
   "metadata": {},
   "outputs": [],
   "source": [
    "# Fetch AWS credentials from environment variables\n",
    "AWS_ACCESS_KEY_ID = os.getenv('AWS_ACCESS_KEY_ID')\n",
    "AWS_SECRET_ACCESS_KEY = os.getenv('AWS_SECRET_ACCESS_KEY')\n",
    "AWS_S3_ENDPOINT = os.getenv('AWS_S3_ENDPOINT')\n",
    "AWS_DEFAULT_REGION = os.getenv('AWS_DEFAULT_REGION')\n",
    "\n",
    "# Initialize S3 client\n",
    "session = boto3.Session()\n",
    "s3_client = session.client(\n",
    "    's3',\n",
    "    aws_access_key_id=AWS_ACCESS_KEY_ID,\n",
    "    aws_secret_access_key=AWS_SECRET_ACCESS_KEY,\n",
    "    endpoint_url=AWS_S3_ENDPOINT,\n",
    "    region_name=AWS_DEFAULT_REGION\n",
    ")\n",
    "\n",
    "bucket_name = 'wamsi-westport-project-1-1'"
   ]
  },
  {
   "cell_type": "code",
   "execution_count": 5,
   "metadata": {},
   "outputs": [],
   "source": [
    "def find_s3_key(agency, program, id_number):\n",
    "    # Define base directory\n",
    "    base_dir = f'csiem-data/data-lake/{agency}/{program}/'\n",
    "    \n",
    "    # List objects in the directory\n",
    "    response = s3_client.list_objects_v2(Bucket=bucket_name, Prefix=base_dir)\n",
    "    \n",
    "    # Search for a file that contains the id_number\n",
    "    for content in response.get('Contents', []):\n",
    "        key = content['Key']\n",
    "        if id_number in key:\n",
    "            return key\n",
    "    \n",
    "    return None"
   ]
  },
  {
   "cell_type": "code",
   "execution_count": 1,
   "metadata": {},
   "outputs": [],
   "source": [
    "from dash import dcc, html, Input, Output, State, callback\n",
    "import geopandas as gpd\n",
    "import pandas as pd\n",
    "import dash_leaflet as dl\n",
    "from dash import dcc, html\n",
    "\n",
    "# Load shapefiles and CSV\n",
    "study_area = gpd.read_file(\"C:/Users/admin/Downloads/WAMSI/Shapefile/sat_boundary_MultiPolygon.shp\")\n",
    "study_area1 = gpd.read_file(\"C:/Users/admin/Downloads/WAMSI/Shapefile/Zone_11/zones_11_MultiPolygon.shp\")\n",
    "study_area2 = gpd.read_file(\"C:/Users/admin/Downloads/WAMSI/Shapefile/Zone_11/Polygons_MultiPolygon.shp\")\n",
    "points_df = pd.read_csv(\"C:/Users/admin/Downloads/WAMSI/points.csv\")\n",
    "\n",
    "# Convert GeoDataFrames to GeoJSON for Leaflet\n",
    "study_area_geojson = dl.GeoJSON(data=study_area.__geo_interface__, id=\"study-area\")\n",
    "study_area1_geojson = dl.GeoJSON(data=study_area1.__geo_interface__, id=\"study-area1\")\n",
    "study_area2_geojson = dl.GeoJSON(data=study_area2.__geo_interface__, id=\"study-area2\")"
   ]
  },
  {
   "cell_type": "code",
   "execution_count": 12,
   "metadata": {},
   "outputs": [],
   "source": [
    "import os\n",
    "shapefiles = [\n",
    "    \"assets/shapefile/Polygons_1_MultiPolygon.shp\",\n",
    "    \"assets/shapefile/Polygons_2_MultiPolygon.shp\",\n",
    "    \"assets/shapefile/Polygons_3_MultiPolygon.shp\",\n",
    "    \"assets/shapefile/Polygons_4_MultiPolygon.shp\",\n",
    "    \"assets/shapefile/Polygons_5_MultiPolygon.shp\",\n",
    "    \"assets/shapefile/Polygons_6_MultiPolygon.shp\"\n",
    "]\n",
    "\n",
    "# Convert shapefiles to GeoJSON\n",
    "geojson_data = {}\n",
    "for shapefile in shapefiles:\n",
    "    try:\n",
    "        gdf = gpd.read_file(shapefile)\n",
    "        geojson_data[os.path.basename(shapefile)] = gdf.__geo_interface__\n",
    "    except Exception as e:\n",
    "        print(f\"Error reading {shapefile}: {e}\")"
   ]
  },
  {
   "cell_type": "code",
   "execution_count": null,
   "metadata": {},
   "outputs": [],
   "source": [
    "# /wamsi-westport-project-1-1/csiem-data/data-lake/ESA/GlobColor/Transp/Point/CMEMS_transp_point_1.csv\n",
    "# /wamsi-westport-project-1-1/csiem-data/data-lake/ESA/GlobColor/Transp/Polygon/CMEMS_transp_polygon_1.csv\n",
    "# /wamsi-westport-project-1-1/csiem-data/data-lake/ESA/GlobColor/Optics/Point/CMEMS_optics_point_1.csv\n",
    "# /wamsi-westport-project-1-1/csiem-data/data-lake/ESA/GlobColor/Optics/Polygon/CMEMS_optics_polygon_1.csv\n",
    "# /wamsi-westport-project-1-1/csiem-data/data-lake/ESA/GlobColor/PP/Point/CMEMS_PP_point_1.csv\n",
    "# /wamsi-westport-project-1-1/csiem-data/data-lake/ESA/GlobColor/PP/Polygon/CMEMS_PP_polygon_1.csv\n",
    "# /wamsi-westport-project-1-1/csiem-data/data-lake/UKMO/OSTIA/Temperature/Points/CMEMS_SST_point_1.csv\n",
    "# /wamsi-westport-project-1-1/csiem-data/data-lake/UKMO/OSTIA/Temperature/Polygon/CMEMS_SST_polygon_1.csv\n",
    "# /wamsi-westport-project-1-1/csiem-data/data-lake/NASA/MODIS/PAR/Points/MODIS_PAR_point_1.csv\n",
    "# /wamsi-westport-project-1-1/csiem-data/data-lake/NASA/MODIS/PAR/Polygon/MODIS_PAR_polygon_1.csv\n",
    "# /wamsi-westport-project-1-1/csiem-data/data-lake/NASA/MODIS/PIC/Points/MODIS_PIC_point_1.csv\n",
    "# /wamsi-westport-project-1-1/csiem-data/data-lake/NASA/MODIS/PIC/Polygon/MODIS_PIC_polygon_1.csv\n",
    "# /wamsi-westport-project-1-1/csiem-data/data-lake/NASA/MODIS/POC/Points/MODIS_POC_point_1.csv\n",
    "# /wamsi-westport-project-1-1/csiem-data/data-lake/NASA/MODIS/POC/Polygon/MODIS_POC_polygon_1.csv"
   ]
  }
 ],
 "metadata": {
  "kernelspec": {
   "display_name": "Python 3",
   "language": "python",
   "name": "python3"
  },
  "language_info": {
   "codemirror_mode": {
    "name": "ipython",
    "version": 3
   },
   "file_extension": ".py",
   "mimetype": "text/x-python",
   "name": "python",
   "nbconvert_exporter": "python",
   "pygments_lexer": "ipython3",
   "version": "3.12.2"
  }
 },
 "nbformat": 4,
 "nbformat_minor": 2
}
